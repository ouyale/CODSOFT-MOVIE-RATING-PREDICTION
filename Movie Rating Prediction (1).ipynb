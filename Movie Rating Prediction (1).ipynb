{
 "cells": [
  {
   "cell_type": "markdown",
   "id": "f4c5e45e",
   "metadata": {},
   "source": [
    "# Movie Rating Prediction "
   ]
  },
  {
   "cell_type": "markdown",
   "id": "5fd20ed2",
   "metadata": {},
   "source": [
    "# 1.Data Preprocessing"
   ]
  },
  {
   "cell_type": "code",
   "execution_count": 1,
   "id": "a891eb84",
   "metadata": {},
   "outputs": [
    {
     "data": {
      "text/html": [
       "<div>\n",
       "<style scoped>\n",
       "    .dataframe tbody tr th:only-of-type {\n",
       "        vertical-align: middle;\n",
       "    }\n",
       "\n",
       "    .dataframe tbody tr th {\n",
       "        vertical-align: top;\n",
       "    }\n",
       "\n",
       "    .dataframe thead th {\n",
       "        text-align: right;\n",
       "    }\n",
       "</style>\n",
       "<table border=\"1\" class=\"dataframe\">\n",
       "  <thead>\n",
       "    <tr style=\"text-align: right;\">\n",
       "      <th></th>\n",
       "      <th>Name</th>\n",
       "      <th>Year</th>\n",
       "      <th>Duration</th>\n",
       "      <th>Genre</th>\n",
       "      <th>Rating</th>\n",
       "      <th>Votes</th>\n",
       "      <th>Director</th>\n",
       "      <th>Actor 1</th>\n",
       "      <th>Actor 2</th>\n",
       "      <th>Actor 3</th>\n",
       "    </tr>\n",
       "  </thead>\n",
       "  <tbody>\n",
       "    <tr>\n",
       "      <th>0</th>\n",
       "      <td></td>\n",
       "      <td>NaN</td>\n",
       "      <td>NaN</td>\n",
       "      <td>Drama</td>\n",
       "      <td>NaN</td>\n",
       "      <td>NaN</td>\n",
       "      <td>J.S. Randhawa</td>\n",
       "      <td>Manmauji</td>\n",
       "      <td>Birbal</td>\n",
       "      <td>Rajendra Bhatia</td>\n",
       "    </tr>\n",
       "    <tr>\n",
       "      <th>1</th>\n",
       "      <td>#Gadhvi (He thought he was Gandhi)</td>\n",
       "      <td>(2019)</td>\n",
       "      <td>109 min</td>\n",
       "      <td>Drama</td>\n",
       "      <td>7.0</td>\n",
       "      <td>8</td>\n",
       "      <td>Gaurav Bakshi</td>\n",
       "      <td>Rasika Dugal</td>\n",
       "      <td>Vivek Ghamande</td>\n",
       "      <td>Arvind Jangid</td>\n",
       "    </tr>\n",
       "    <tr>\n",
       "      <th>2</th>\n",
       "      <td>#Homecoming</td>\n",
       "      <td>(2021)</td>\n",
       "      <td>90 min</td>\n",
       "      <td>Drama, Musical</td>\n",
       "      <td>NaN</td>\n",
       "      <td>NaN</td>\n",
       "      <td>Soumyajit Majumdar</td>\n",
       "      <td>Sayani Gupta</td>\n",
       "      <td>Plabita Borthakur</td>\n",
       "      <td>Roy Angana</td>\n",
       "    </tr>\n",
       "    <tr>\n",
       "      <th>3</th>\n",
       "      <td>#Yaaram</td>\n",
       "      <td>(2019)</td>\n",
       "      <td>110 min</td>\n",
       "      <td>Comedy, Romance</td>\n",
       "      <td>4.4</td>\n",
       "      <td>35</td>\n",
       "      <td>Ovais Khan</td>\n",
       "      <td>Prateik</td>\n",
       "      <td>Ishita Raj</td>\n",
       "      <td>Siddhant Kapoor</td>\n",
       "    </tr>\n",
       "    <tr>\n",
       "      <th>4</th>\n",
       "      <td>...And Once Again</td>\n",
       "      <td>(2010)</td>\n",
       "      <td>105 min</td>\n",
       "      <td>Drama</td>\n",
       "      <td>NaN</td>\n",
       "      <td>NaN</td>\n",
       "      <td>Amol Palekar</td>\n",
       "      <td>Rajat Kapoor</td>\n",
       "      <td>Rituparna Sengupta</td>\n",
       "      <td>Antara Mali</td>\n",
       "    </tr>\n",
       "  </tbody>\n",
       "</table>\n",
       "</div>"
      ],
      "text/plain": [
       "                                 Name    Year Duration            Genre  \\\n",
       "0                                         NaN      NaN            Drama   \n",
       "1  #Gadhvi (He thought he was Gandhi)  (2019)  109 min            Drama   \n",
       "2                         #Homecoming  (2021)   90 min   Drama, Musical   \n",
       "3                             #Yaaram  (2019)  110 min  Comedy, Romance   \n",
       "4                   ...And Once Again  (2010)  105 min            Drama   \n",
       "\n",
       "   Rating Votes            Director       Actor 1             Actor 2  \\\n",
       "0     NaN   NaN       J.S. Randhawa      Manmauji              Birbal   \n",
       "1     7.0     8       Gaurav Bakshi  Rasika Dugal      Vivek Ghamande   \n",
       "2     NaN   NaN  Soumyajit Majumdar  Sayani Gupta   Plabita Borthakur   \n",
       "3     4.4    35          Ovais Khan       Prateik          Ishita Raj   \n",
       "4     NaN   NaN        Amol Palekar  Rajat Kapoor  Rituparna Sengupta   \n",
       "\n",
       "           Actor 3  \n",
       "0  Rajendra Bhatia  \n",
       "1    Arvind Jangid  \n",
       "2       Roy Angana  \n",
       "3  Siddhant Kapoor  \n",
       "4      Antara Mali  "
      ]
     },
     "execution_count": 1,
     "metadata": {},
     "output_type": "execute_result"
    }
   ],
   "source": [
    "import pandas as pd\n",
    "import numpy as np\n",
    "from sklearn.linear_model import LinearRegression\n",
    "from sklearn.model_selection import train_test_split\n",
    "from sklearn.preprocessing import OneHotEncoder\n",
    "from sklearn.compose import ColumnTransformer\n",
    "from sklearn.pipeline import Pipeline\n",
    "from sklearn.impute import SimpleImputer\n",
    "from sklearn.ensemble import RandomForestRegressor\n",
    "from sklearn.metrics import mean_squared_error\n",
    "\n",
    "movie_data = pd.read_csv('IMDb Movies India.csv',encoding='ISO-8859-1')\n",
    "movie_data.head()\n"
   ]
  },
  {
   "cell_type": "code",
   "execution_count": 2,
   "id": "c740130d",
   "metadata": {},
   "outputs": [
    {
     "name": "stdout",
     "output_type": "stream",
     "text": [
      "<class 'pandas.core.frame.DataFrame'>\n",
      "RangeIndex: 15509 entries, 0 to 15508\n",
      "Data columns (total 10 columns):\n",
      " #   Column    Non-Null Count  Dtype  \n",
      "---  ------    --------------  -----  \n",
      " 0   Name      15509 non-null  object \n",
      " 1   Year      14981 non-null  object \n",
      " 2   Duration  7240 non-null   object \n",
      " 3   Genre     13632 non-null  object \n",
      " 4   Rating    7919 non-null   float64\n",
      " 5   Votes     7920 non-null   object \n",
      " 6   Director  14984 non-null  object \n",
      " 7   Actor 1   13892 non-null  object \n",
      " 8   Actor 2   13125 non-null  object \n",
      " 9   Actor 3   12365 non-null  object \n",
      "dtypes: float64(1), object(9)\n",
      "memory usage: 1.2+ MB\n"
     ]
    }
   ],
   "source": [
    "movie_data.info()"
   ]
  },
  {
   "cell_type": "code",
   "execution_count": 3,
   "id": "f87e7798",
   "metadata": {},
   "outputs": [
    {
     "data": {
      "text/html": [
       "<div>\n",
       "<style scoped>\n",
       "    .dataframe tbody tr th:only-of-type {\n",
       "        vertical-align: middle;\n",
       "    }\n",
       "\n",
       "    .dataframe tbody tr th {\n",
       "        vertical-align: top;\n",
       "    }\n",
       "\n",
       "    .dataframe thead th {\n",
       "        text-align: right;\n",
       "    }\n",
       "</style>\n",
       "<table border=\"1\" class=\"dataframe\">\n",
       "  <thead>\n",
       "    <tr style=\"text-align: right;\">\n",
       "      <th></th>\n",
       "      <th>Name</th>\n",
       "      <th>Year</th>\n",
       "      <th>Duration</th>\n",
       "      <th>Genre</th>\n",
       "      <th>Rating</th>\n",
       "      <th>Votes</th>\n",
       "      <th>Director</th>\n",
       "      <th>Actor 1</th>\n",
       "      <th>Actor 2</th>\n",
       "      <th>Actor 3</th>\n",
       "    </tr>\n",
       "  </thead>\n",
       "  <tbody>\n",
       "    <tr>\n",
       "      <th>1</th>\n",
       "      <td>#Gadhvi (He thought he was Gandhi)</td>\n",
       "      <td>(2019)</td>\n",
       "      <td>109 min</td>\n",
       "      <td>Drama</td>\n",
       "      <td>7.0</td>\n",
       "      <td>8</td>\n",
       "      <td>Gaurav Bakshi</td>\n",
       "      <td>Rasika Dugal</td>\n",
       "      <td>Vivek Ghamande</td>\n",
       "      <td>Arvind Jangid</td>\n",
       "    </tr>\n",
       "    <tr>\n",
       "      <th>2</th>\n",
       "      <td>#Homecoming</td>\n",
       "      <td>(2021)</td>\n",
       "      <td>90 min</td>\n",
       "      <td>Drama, Musical</td>\n",
       "      <td>NaN</td>\n",
       "      <td>NaN</td>\n",
       "      <td>Soumyajit Majumdar</td>\n",
       "      <td>Sayani Gupta</td>\n",
       "      <td>Plabita Borthakur</td>\n",
       "      <td>Roy Angana</td>\n",
       "    </tr>\n",
       "    <tr>\n",
       "      <th>3</th>\n",
       "      <td>#Yaaram</td>\n",
       "      <td>(2019)</td>\n",
       "      <td>110 min</td>\n",
       "      <td>Comedy, Romance</td>\n",
       "      <td>4.4</td>\n",
       "      <td>35</td>\n",
       "      <td>Ovais Khan</td>\n",
       "      <td>Prateik</td>\n",
       "      <td>Ishita Raj</td>\n",
       "      <td>Siddhant Kapoor</td>\n",
       "    </tr>\n",
       "    <tr>\n",
       "      <th>4</th>\n",
       "      <td>...And Once Again</td>\n",
       "      <td>(2010)</td>\n",
       "      <td>105 min</td>\n",
       "      <td>Drama</td>\n",
       "      <td>NaN</td>\n",
       "      <td>NaN</td>\n",
       "      <td>Amol Palekar</td>\n",
       "      <td>Rajat Kapoor</td>\n",
       "      <td>Rituparna Sengupta</td>\n",
       "      <td>Antara Mali</td>\n",
       "    </tr>\n",
       "    <tr>\n",
       "      <th>5</th>\n",
       "      <td>...Aur Pyaar Ho Gaya</td>\n",
       "      <td>(1997)</td>\n",
       "      <td>147 min</td>\n",
       "      <td>Comedy, Drama, Musical</td>\n",
       "      <td>4.7</td>\n",
       "      <td>827</td>\n",
       "      <td>Rahul Rawail</td>\n",
       "      <td>Bobby Deol</td>\n",
       "      <td>Aishwarya Rai Bachchan</td>\n",
       "      <td>Shammi Kapoor</td>\n",
       "    </tr>\n",
       "  </tbody>\n",
       "</table>\n",
       "</div>"
      ],
      "text/plain": [
       "                                 Name    Year Duration  \\\n",
       "1  #Gadhvi (He thought he was Gandhi)  (2019)  109 min   \n",
       "2                         #Homecoming  (2021)   90 min   \n",
       "3                             #Yaaram  (2019)  110 min   \n",
       "4                   ...And Once Again  (2010)  105 min   \n",
       "5                ...Aur Pyaar Ho Gaya  (1997)  147 min   \n",
       "\n",
       "                    Genre  Rating Votes            Director       Actor 1  \\\n",
       "1                   Drama     7.0     8       Gaurav Bakshi  Rasika Dugal   \n",
       "2          Drama, Musical     NaN   NaN  Soumyajit Majumdar  Sayani Gupta   \n",
       "3         Comedy, Romance     4.4    35          Ovais Khan       Prateik   \n",
       "4                   Drama     NaN   NaN        Amol Palekar  Rajat Kapoor   \n",
       "5  Comedy, Drama, Musical     4.7   827        Rahul Rawail    Bobby Deol   \n",
       "\n",
       "                  Actor 2          Actor 3  \n",
       "1          Vivek Ghamande    Arvind Jangid  \n",
       "2       Plabita Borthakur       Roy Angana  \n",
       "3              Ishita Raj  Siddhant Kapoor  \n",
       "4      Rituparna Sengupta      Antara Mali  \n",
       "5  Aishwarya Rai Bachchan    Shammi Kapoor  "
      ]
     },
     "execution_count": 3,
     "metadata": {},
     "output_type": "execute_result"
    }
   ],
   "source": [
    "# Remove the first row\n",
    "movie_data = movie_data.drop(0, axis=0)\n",
    "movie_data.head()"
   ]
  },
  {
   "cell_type": "code",
   "execution_count": 4,
   "id": "ed40b9eb",
   "metadata": {},
   "outputs": [
    {
     "name": "stdout",
     "output_type": "stream",
     "text": [
      "1    2019\n",
      "2    2021\n",
      "3    2019\n",
      "4    2010\n",
      "5    1997\n",
      "Name: Year, dtype: int32\n"
     ]
    }
   ],
   "source": [
    "# Extract year and convert to float\n",
    "movie_data['Year'] = movie_data['Year'].str.extract('(\\d{4})').astype(float)\n",
    "\n",
    "# fill NaN with median year\n",
    "median_year = movie_data['Year'].median()\n",
    "movie_data['Year'].fillna(median_year, inplace=True)\n",
    "\n",
    "# convert to integer\n",
    "movie_data['Year'] = movie_data['Year'].astype(int)\n",
    "\n",
    "print(movie_data['Year'].head())"
   ]
  },
  {
   "cell_type": "code",
   "execution_count": 5,
   "id": "f2f5cc99",
   "metadata": {},
   "outputs": [
    {
     "name": "stdout",
     "output_type": "stream",
     "text": [
      "1    109\n",
      "2     90\n",
      "3    110\n",
      "4    105\n",
      "5    147\n",
      "Name: Duration, dtype: int32\n"
     ]
    }
   ],
   "source": [
    "# Extract the numeric part of the 'Duration' column and convert it to float\n",
    "movie_data['Duration'] = movie_data['Duration'].str.extract('(\\d+)').astype(float)\n",
    "\n",
    "# Calculate the median of the 'Duration' column\n",
    "median_duration = movie_data['Duration'].median()\n",
    "\n",
    "# Fill missing values in 'Duration' with the median\n",
    "movie_data['Duration'].fillna(median_duration, inplace=True)\n",
    "\n",
    "# convert 'Duration' to integer if you don't need decimal precision\n",
    "movie_data['Duration'] = movie_data['Duration'].astype(int)\n",
    "\n",
    "print(movie_data['Duration'].head())"
   ]
  },
  {
   "cell_type": "code",
   "execution_count": 6,
   "id": "a3fa78c4",
   "metadata": {},
   "outputs": [],
   "source": [
    "# Fill missing 'Genre' values with the most common genre\n",
    "most_common_genre = movie_data['Genre'].mode()[0]\n",
    "movie_data['Genre'].fillna(most_common_genre, inplace=True)"
   ]
  },
  {
   "cell_type": "code",
   "execution_count": 7,
   "id": "c0eebb94",
   "metadata": {},
   "outputs": [],
   "source": [
    "# Fill missing values for 'Director' and 'Actors' with 'Unknown'\n",
    "movie_data['Director'].fillna('Unknown', inplace=True)\n",
    "movie_data['Actor 1'].fillna('Unknown', inplace=True)\n",
    "movie_data['Actor 2'].fillna('Unknown', inplace=True)\n",
    "movie_data['Actor 3'].fillna('Unknown', inplace=True)"
   ]
  },
  {
   "cell_type": "code",
   "execution_count": 8,
   "id": "6b05e5b8",
   "metadata": {},
   "outputs": [
    {
     "name": "stdout",
     "output_type": "stream",
     "text": [
      "<class 'pandas.core.frame.DataFrame'>\n",
      "RangeIndex: 15508 entries, 1 to 15508\n",
      "Data columns (total 10 columns):\n",
      " #   Column    Non-Null Count  Dtype  \n",
      "---  ------    --------------  -----  \n",
      " 0   Name      15508 non-null  object \n",
      " 1   Year      15508 non-null  int32  \n",
      " 2   Duration  15508 non-null  int32  \n",
      " 3   Genre     15508 non-null  object \n",
      " 4   Rating    7919 non-null   float64\n",
      " 5   Votes     7920 non-null   object \n",
      " 6   Director  15508 non-null  object \n",
      " 7   Actor 1   15508 non-null  object \n",
      " 8   Actor 2   15508 non-null  object \n",
      " 9   Actor 3   15508 non-null  object \n",
      "dtypes: float64(1), int32(2), object(7)\n",
      "memory usage: 1.1+ MB\n"
     ]
    }
   ],
   "source": [
    "movie_data.info()"
   ]
  },
  {
   "cell_type": "code",
   "execution_count": 9,
   "id": "05f5ddb1",
   "metadata": {},
   "outputs": [],
   "source": [
    "# Convert 'Votes' to numeric, setting errors to 'coerce' which converts non-convertible values to NaN\n",
    "movie_data['Votes'] = pd.to_numeric(movie_data['Votes'], errors='coerce')"
   ]
  },
  {
   "cell_type": "code",
   "execution_count": 10,
   "id": "fdb81afc",
   "metadata": {},
   "outputs": [],
   "source": [
    "# Fill NaNs in 'Votes' with the median\n",
    "votes_median = movie_data['Votes'].median()\n",
    "movie_data['Votes'].fillna(votes_median, inplace=True)"
   ]
  },
  {
   "cell_type": "code",
   "execution_count": 11,
   "id": "64dcd4a4",
   "metadata": {},
   "outputs": [
    {
     "name": "stdout",
     "output_type": "stream",
     "text": [
      "<class 'pandas.core.frame.DataFrame'>\n",
      "RangeIndex: 15508 entries, 1 to 15508\n",
      "Data columns (total 10 columns):\n",
      " #   Column    Non-Null Count  Dtype  \n",
      "---  ------    --------------  -----  \n",
      " 0   Name      15508 non-null  object \n",
      " 1   Year      15508 non-null  int32  \n",
      " 2   Duration  15508 non-null  int32  \n",
      " 3   Genre     15508 non-null  object \n",
      " 4   Rating    7919 non-null   float64\n",
      " 5   Votes     15508 non-null  float64\n",
      " 6   Director  15508 non-null  object \n",
      " 7   Actor 1   15508 non-null  object \n",
      " 8   Actor 2   15508 non-null  object \n",
      " 9   Actor 3   15508 non-null  object \n",
      "dtypes: float64(2), int32(2), object(6)\n",
      "memory usage: 1.1+ MB\n"
     ]
    }
   ],
   "source": [
    "movie_data.info()"
   ]
  },
  {
   "cell_type": "code",
   "execution_count": 12,
   "id": "c7324712",
   "metadata": {},
   "outputs": [],
   "source": [
    "# Create a model to fill in missing 'Rating' based on other numerical columns\n",
    "model = LinearRegression()\n",
    "\n",
    "# Train the model on available data\n",
    "train_data = movie_data.dropna(subset=['Rating'])\n",
    "model.fit(train_data[['Year', 'Duration', 'Votes']], train_data['Rating'])\n",
    "\n",
    "# Predict and fill missing ratings\n",
    "missing_data = movie_data[movie_data['Rating'].isnull()]\n",
    "predicted_ratings = model.predict(missing_data[['Year', 'Duration', 'Votes']])\n",
    "movie_data.loc[movie_data['Rating'].isnull(), 'Rating'] = predicted_ratings"
   ]
  },
  {
   "cell_type": "code",
   "execution_count": 13,
   "id": "5ad60215",
   "metadata": {},
   "outputs": [
    {
     "name": "stdout",
     "output_type": "stream",
     "text": [
      "<class 'pandas.core.frame.DataFrame'>\n",
      "RangeIndex: 15508 entries, 1 to 15508\n",
      "Data columns (total 10 columns):\n",
      " #   Column    Non-Null Count  Dtype  \n",
      "---  ------    --------------  -----  \n",
      " 0   Name      15508 non-null  object \n",
      " 1   Year      15508 non-null  int32  \n",
      " 2   Duration  15508 non-null  int32  \n",
      " 3   Genre     15508 non-null  object \n",
      " 4   Rating    15508 non-null  float64\n",
      " 5   Votes     15508 non-null  float64\n",
      " 6   Director  15508 non-null  object \n",
      " 7   Actor 1   15508 non-null  object \n",
      " 8   Actor 2   15508 non-null  object \n",
      " 9   Actor 3   15508 non-null  object \n",
      "dtypes: float64(2), int32(2), object(6)\n",
      "memory usage: 1.1+ MB\n"
     ]
    }
   ],
   "source": [
    "movie_data.info()"
   ]
  },
  {
   "cell_type": "markdown",
   "id": "a4cc964a",
   "metadata": {},
   "source": [
    "# 2.Feature Engineering"
   ]
  },
  {
   "cell_type": "code",
   "execution_count": 14,
   "id": "e1519f8c",
   "metadata": {},
   "outputs": [],
   "source": [
    "# A. Textual Features\n",
    "\n",
    "# 1. Number of Genres\n",
    "movie_data['Genre_Count'] = movie_data['Genre'].apply(lambda x: len(x.split(', ')))\n"
   ]
  },
  {
   "cell_type": "code",
   "execution_count": 15,
   "id": "b7364f36",
   "metadata": {},
   "outputs": [],
   "source": [
    "# 2. Genre Presence (One-Hot Encoding already planned to be handled in ColumnTransformer)\n",
    "\n",
    "# B. Temporal Features\n",
    "\n",
    "# 3. Movie Age\n",
    "current_year = 2024\n",
    "movie_data['Movie_Age'] = current_year - movie_data['Year']"
   ]
  },
  {
   "cell_type": "code",
   "execution_count": 16,
   "id": "74c86ec7",
   "metadata": {},
   "outputs": [],
   "source": [
    "# C. Interaction Features\n",
    "\n",
    "# Example: interaction between director and genres might be complex to capture directly without creating many sparse columns,\n",
    "# a simpler interaction might be between movie age and votes\n",
    "# However, here's a placeholder for potential interaction features to might consider\n",
    "# This requires careful consideration and domain knowledge to implement effectively\n",
    "\n",
    "# Set up the ColumnTransformer with OneHotEncoder for genres\n",
    "categorical_features = ['Genre']\n",
    "numeric_features = ['Year', 'Duration', 'Votes', 'Genre_Count', 'Movie_Age']\n",
    "\n",
    "one_hot_encoder = OneHotEncoder(handle_unknown='ignore')\n",
    "preprocessor = ColumnTransformer(\n",
    "    transformers=[\n",
    "        ('cat', one_hot_encoder, categorical_features),\n",
    "        ('num', 'passthrough', numeric_features)\n",
    "    ],\n",
    "    remainder='drop')  # Adjust as necessary\n"
   ]
  },
  {
   "cell_type": "code",
   "execution_count": 17,
   "id": "35bea87a",
   "metadata": {},
   "outputs": [
    {
     "name": "stdout",
     "output_type": "stream",
     "text": [
      "Root Mean Squared Error: 0.8669538135327022\n"
     ]
    }
   ],
   "source": [
    "# 3. Modeling Setup (using RandomForest)\n",
    "X = movie_data.drop(['Rating', 'Name', 'Director', 'Actor 1', 'Actor 2', 'Actor 3'], axis=1)  # Adjust as necessary\n",
    "y = movie_data['Rating']\n",
    "\n",
    "# Split the data into training and testing sets\n",
    "X_train, X_test, y_train, y_test = train_test_split(X, y, test_size=0.2, random_state=42)\n",
    "\n",
    "# Define the model pipeline\n",
    "model_pipeline = Pipeline(steps=[\n",
    "    ('preprocessor', preprocessor),\n",
    "    ('regressor', RandomForestRegressor(n_estimators=100, random_state=42))\n",
    "])\n",
    "\n",
    "# Train the model\n",
    "model_pipeline.fit(X_train, y_train)\n",
    "\n",
    "# Predict on the test set\n",
    "y_pred = model_pipeline.predict(X_test)\n",
    "\n",
    "# Calculate and print the Root Mean Squared Error\n",
    "mse = mean_squared_error(y_test, y_pred)\n",
    "rmse = mse ** 0.5\n",
    "print(\"Root Mean Squared Error:\", rmse)"
   ]
  },
  {
   "cell_type": "code",
   "execution_count": null,
   "id": "149997a3",
   "metadata": {},
   "outputs": [],
   "source": []
  }
 ],
 "metadata": {
  "kernelspec": {
   "display_name": "Python 3 (ipykernel)",
   "language": "python",
   "name": "python3"
  },
  "language_info": {
   "codemirror_mode": {
    "name": "ipython",
    "version": 3
   },
   "file_extension": ".py",
   "mimetype": "text/x-python",
   "name": "python",
   "nbconvert_exporter": "python",
   "pygments_lexer": "ipython3",
   "version": "3.9.12"
  }
 },
 "nbformat": 4,
 "nbformat_minor": 5
}
